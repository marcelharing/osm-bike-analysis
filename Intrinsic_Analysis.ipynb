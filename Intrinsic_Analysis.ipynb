{
  "cells": [
    {
      "cell_type": "markdown",
      "metadata": {
        "id": "tK68t6cXFrSq"
      },
      "source": [
        "**This Jupyter Notebook comes with a master thesis. It focuses on performing intrinsic analysis on OpenStreetMap (OSM) data. This means that the quality evaluation is based solely on the data and its associated metadata. The main goal of these initial evaluations is to get an overview of the data, make heuristic quality statements, compare different geographic areas and determine the suitability for specific purposes. This approach is in line with previous studies on quality assessment of Volunteered Geographic Information (VGI) data, which are referenced in each section. The notebook classifies OSM line features into three infrastructure classes. In addition, users can define and evaluate any other class they wish. For example, one-way streets where bicycles are allowed to ride against the one-way direction could be scored.**\n",
        "\n",
        "**The notebook is divided into four main sections. In the first, the study area is selected, the data is prepared and the data is downloaded using the Overpass API. The second section (E1) gives an overview of the data and calculates some network based metrics. The third section (E2) looks at the history of the OSM features and the final section (E3) looks at how often the features have been edited.**"
      ]
    },
    {
      "cell_type": "markdown",
      "metadata": {
        "id": "rzfHu67VGf_I"
      },
      "source": [
        "# P1: Data Preparation"
      ]
    },
    {
      "cell_type": "markdown",
      "metadata": {
        "id": "gaPbdyiPbl8Y"
      },
      "source": [
        "## Import libraries"
      ]
    },
    {
      "cell_type": "code",
      "execution_count": null,
      "metadata": {
        "colab": {
          "base_uri": "https://localhost:8080/"
        },
        "id": "QlokHA3NtDVA",
        "outputId": "fb389445-4761-47c5-80b0-ad038da655d3"
      },
      "outputs": [],
      "source": [
        "try:\n",
        "    import google.colab\n",
        "\n",
        "    # Clone the repository\n",
        "    !git clone https://github.com/marcelharing/osm-bike-analysis.git\n",
        "\n",
        "    # Change the working directory\n",
        "    %cd osm-bike-analysis\n",
        "\n",
        "    # Install dependencies\n",
        "    !pip --quiet install -r requirements.txt\n",
        "\n",
        "    # Google Colab saves files in an folder named content\n",
        "    diskpath = '/content/'\n",
        "    \n",
        "except ImportError:\n",
        "    diskpath = '.' # relative file path"
      ]
    },
    {
      "cell_type": "code",
      "execution_count": null,
      "metadata": {
        "id": "1Z6_LT5-BgA5"
      },
      "outputs": [],
      "source": [
        "#### LIBRARIES ####\n",
        "import osmnx\n",
        "import json\n",
        "import ipywidgets as widgets\n",
        "\n",
        "import os\n",
        "import codecs\n",
        "import osm2geojson\n",
        "import geopandas as gpd\n",
        "import contextily as cx\n",
        "import momepy\n",
        "import networkx as nx\n",
        "import matplotlib.pyplot as plt\n",
        "\n",
        "from datetime import datetime\n",
        "from dateutil.relativedelta import relativedelta\n",
        "import requests\n",
        "import plotly.graph_objects as go\n",
        "\n",
        "import seaborn as sns\n",
        "import pandas as pd\n",
        "\n",
        "from functions import *"
      ]
    },
    {
      "cell_type": "markdown",
      "metadata": {
        "id": "jYbRztDxWHif"
      },
      "source": [
        "## Choose a city, town or region as study area"
      ]
    },
    {
      "cell_type": "markdown",
      "metadata": {
        "id": "Xp7C1u2C5os7"
      },
      "source": [
        "⏩ You can choose any **administrative boundary** (as relation) in OSM. Search for it like in [Nominatim](https://nominatim.openstreetmap.org/ui/search.html), for example: *Innsbruck, Austria*"
      ]
    },
    {
      "cell_type": "code",
      "execution_count": null,
      "metadata": {
        "colab": {
          "base_uri": "https://localhost:8080/",
          "height": 450
        },
        "id": "3oXjUKnl_9h5",
        "outputId": "b488a26d-a6b8-40c1-c851-673b7e7b01d9"
      },
      "outputs": [],
      "source": [
        "#### CHOOSE THE CITY, TOWN OR REGION YOU WANT TO ANALYZE ####\n",
        "nominatim_area = input(\"Please enter the city, town or region you want to analyze: \")\n",
        "\n",
        "gdf_area = osmnx.geocode_to_gdf(nominatim_area)\n",
        "\n",
        "# Plot the area\n",
        "f, ax = plt.subplots()\n",
        "gdf_area.to_crs(epsg=3857).plot(ax=ax, alpha=0.5, edgecolor=\"b\", linewidth=2)\n",
        "cx.add_basemap(\n",
        "    ax,\n",
        "    source=\"https://tile.thunderforest.com/atlas/{z}/{x}/{y}.png?apikey=3ad11fafa2564c1183c66f15224857b5\",\n",
        ")\n",
        "\n",
        "# Get the area as a GEOJSON file\n",
        "gjson_area = gdf_area.to_json()\n",
        "\n",
        "# areaID is always osm_id + 3600000000, has to be a relation, gdf_area.osm_id comes from osmnx nominatim query above\n",
        "areaId = gdf_area.osm_id[0] + 3600000000"
      ]
    },
    {
      "cell_type": "markdown",
      "metadata": {
        "id": "fj1DqQ6Ju1nv"
      },
      "source": [
        "## Overpass Queries"
      ]
    },
    {
      "cell_type": "markdown",
      "metadata": {
        "id": "oLl4yjAxsbvB"
      },
      "source": [
        "Overpass is a web API that allows users to get and **filter specific OSM features**. It has its own [query language](https://wiki.openstreetmap.org/wiki/Overpass_API/Overpass_QL).\n",
        "\n",
        "All queries are already defined and nothing needs to be done anymore. But if you want to analyse **your own set of OSM attributes** (for example, all one-way streets where bicycles can also travel against the one-way traffic flow), you can define and analyse your own infrastructure class.  You can use the Overpass [Turbo Wizard](https://overpass-turbo.eu/) to do this. However, the query output should be in XML format `[out:xml] ` and return also metadata `out meta;` so it should look like this:\n",
        "```[out:xml][timeout:200];\n",
        "area(id:{areaId})->.searchArea;\n",
        "(\n",
        "  FEATURES SETS HERE\n",
        ");\n",
        "(._;>;);\n",
        "out meta;\n",
        "```\n",
        "Note that if you select attributes that are already in the other queries, there may be duplicates when summed up to total bicycle infrastructure.\n"
      ]
    },
    {
      "cell_type": "code",
      "execution_count": null,
      "metadata": {
        "id": "UuehUFdKfdhv"
      },
      "outputs": [],
      "source": [
        "#### OVERPASS QUERYS ####\n",
        "\n",
        "### CYCLE LANES ###\n",
        "query_cycletracks = f\"\"\"\n",
        "/*\n",
        "“(highway=cycleway   OR (highway=path OR highway= footway) AND (bicycle=designated OR bicycle=yes OR bicycle=permissive)  OR (cycleway=track OR cycleway=opposite_track)  OR (cycleway:right=track OR cycleway:right=opposite_track)  OR (cycleway:left=track OR cycleway:left=opposite_track)  OR (cycleway:both=track OR cycleway:both=opposite_track) ) in Innsbruck”\n",
        "*/\n",
        "[out:xml][timeout:200];\n",
        "area(id:{areaId})->.searchArea;\n",
        "(\n",
        "  way[\"highway\"=\"cycleway\"](area.searchArea);\n",
        "  way[\"highway\"=\"path\"][\"bicycle\"=\"designated\"](area.searchArea);\n",
        "  way[\"highway\"=\"path\"][\"bicycle\"=\"yes\"](area.searchArea);\n",
        "  way[\"highway\"=\"path\"][\"bicycle\"=\"permissive\"](area.searchArea);\n",
        "  way[\"highway\"=\"footway\"][\"bicycle\"=\"designated\"](area.searchArea);\n",
        "  way[\"highway\"=\"footway\"][\"bicycle\"=\"yes\"](area.searchArea);\n",
        "  way[\"highway\"=\"footway\"][\"bicycle\"=\"permissive\"](area.searchArea);\n",
        "  way[\"cycleway\"=\"track\"](area.searchArea);\n",
        "  way[\"cycleway\"=\"opposite_track\"](area.searchArea);\n",
        "  way[\"cycleway:right\"=\"track\"](area.searchArea);\n",
        "  way[\"cycleway:right\"=\"opposite_track\"](area.searchArea);\n",
        "  way[\"cycleway:left\"=\"track\"](area.searchArea);\n",
        "  way[\"cycleway:left\"=\"opposite_track\"](area.searchArea);\n",
        "  way[\"cycleway:both\"=\"track\"](area.searchArea);\n",
        "  way[\"cycleway:both\"=\"opposite_track\"](area.searchArea);\n",
        ");\n",
        "(._;>;);\n",
        "out meta;\n",
        "\"\"\"\n",
        "### CYCLE LANES ###\n",
        "query_cyclelanes= f\"\"\"\n",
        "/*\n",
        "“(cycleway=lane OR cycleway=opposite_lane) OR (cycleway:right=lane OR cycleway:right=opposite_lane) OR (cycleway:left=lane OR cycleway:left=opposite_lane) OR (cycleway:both=lane OR cycleway:both=opposite_lane) in Innsbruck”\n",
        "*/\n",
        "[out:xml][timeout:200];\n",
        "area(id:{areaId})->.searchArea;\n",
        "(\n",
        "  way[\"cycleway\"=\"lane\"](area.searchArea);\n",
        "  way[\"cycleway\"=\"opposite_lane\"](area.searchArea);\n",
        "  way[\"cycleway:right\"=\"lane\"](area.searchArea);\n",
        "  way[\"cycleway:right\"=\"opposite_lane\"](area.searchArea);\n",
        "  way[\"cycleway:left\"=\"lane\"](area.searchArea);\n",
        "  way[\"cycleway:left\"=\"opposite_lane\"](area.searchArea);\n",
        "  way[\"cycleway:both\"=\"lane\"](area.searchArea);\n",
        "  way[\"cycleway:both\"=\"opposite_lane\"](area.searchArea);\n",
        ");\n",
        "(._;>;);\n",
        "out meta;\n",
        "\"\"\"\n",
        "\n",
        "### CALM TRAFFIC WAYS ####\n",
        "query_calmtrafficways= f\"\"\"\n",
        "/*\n",
        "The original search was:\n",
        "“(  (highway=track OR highway=service OR highway=unclassified OR highway=residential) AND bicycle!=* AND (motor_vehicle=private OR motor_vehicle=no OR motor_vehicle=customers OR motor_vehicle=agricultural OR motor_vehicle=forestry OR motor_vehicle=destination OR motor_vehicle=delivery) ) OR  (  (highway=track OR highway=service OR highway=unclassified OR highway=residential) AND ( (motor_vehicle=private OR motor_vehicle=no OR motor_vehicle=customers OR motor_vehicle=agricultural OR motor_vehicle=forestry OR motor_vehicle=destination OR motor_vehicle=delivery) OR (access=private OR access=no OR access=customers OR access=agricultural OR access=forestry OR access=destination OR access=delivery) OR (vehicle=private OR vehicle=no OR vehicle=customers OR vehicle=agricultural OR vehicle=forestry OR vehicle=destination OR vehicle=delivery) ) AND (bicycle=designated OR bicycle=yes OR bicycle=permissive) ) OR ( highway=track  AND (bicycle=designated OR bicycle=yes OR bicycle=permissive) AND (motor_vehicle!=* AND access!=* AND vehicle!=*) ) OR ( highway=living_street ) OR ( bicycle_road=yes ) OR ( highway=pedestrian  AND (bicycle=designated OR bicycle=yes OR bicycle=permissive) )”\n",
        "*/\n",
        "[out:xml][timeout:240];\n",
        "area(id:{areaId})->.searchArea;\n",
        "(\n",
        "way[\"highway\"=\"track\"][\"bicycle\"!~\".*\"][\"motor_vehicle\"=\"private\"](area.searchArea);\n",
        "way[\"highway\"=\"track\"][\"bicycle\"!~\".*\"][\"motor_vehicle\"=\"no\"](area.searchArea);\n",
        "way[\"highway\"=\"track\"][\"bicycle\"!~\".*\"][\"motor_vehicle\"=\"customers\"](area.searchArea);\n",
        "way[\"highway\"=\"track\"][\"bicycle\"!~\".*\"][\"motor_vehicle\"=\"agricultural\"](area.searchArea);\n",
        "way[\"highway\"=\"track\"][\"bicycle\"!~\".*\"][\"motor_vehicle\"=\"forestry\"](area.searchArea);\n",
        "way[\"highway\"=\"track\"][\"bicycle\"!~\".*\"][\"motor_vehicle\"=\"destination\"](area.searchArea);\n",
        "way[\"highway\"=\"track\"][\"bicycle\"!~\".*\"][\"motor_vehicle\"=\"delivery\"](area.searchArea);\n",
        "way[\"highway\"=\"service\"][\"bicycle\"!~\".*\"][\"motor_vehicle\"=\"private\"](area.searchArea);\n",
        "way[\"highway\"=\"service\"][\"bicycle\"!~\".*\"][\"motor_vehicle\"=\"no\"](area.searchArea);\n",
        "way[\"highway\"=\"service\"][\"bicycle\"!~\".*\"][\"motor_vehicle\"=\"customers\"](area.searchArea);\n",
        "way[\"highway\"=\"service\"][\"bicycle\"!~\".*\"][\"motor_vehicle\"=\"agricultural\"](area.searchArea);\n",
        "way[\"highway\"=\"service\"][\"bicycle\"!~\".*\"][\"motor_vehicle\"=\"forestry\"](area.searchArea);\n",
        "way[\"highway\"=\"service\"][\"bicycle\"!~\".*\"][\"motor_vehicle\"=\"destination\"](area.searchArea);\n",
        "way[\"highway\"=\"service\"][\"bicycle\"!~\".*\"][\"motor_vehicle\"=\"delivery\"](area.searchArea);\n",
        "way[\"highway\"=\"unclassified\"][\"bicycle\"!~\".*\"][\"motor_vehicle\"=\"private\"](area.searchArea);\n",
        "way[\"highway\"=\"unclassified\"][\"bicycle\"!~\".*\"][\"motor_vehicle\"=\"no\"](area.searchArea);\n",
        "way[\"highway\"=\"unclassified\"][\"bicycle\"!~\".*\"][\"motor_vehicle\"=\"customers\"](area.searchArea);\n",
        "way[\"highway\"=\"unclassified\"][\"bicycle\"!~\".*\"][\"motor_vehicle\"=\"agricultural\"](area.searchArea);\n",
        "way[\"highway\"=\"unclassified\"][\"bicycle\"!~\".*\"][\"motor_vehicle\"=\"forestry\"](area.searchArea);\n",
        "way[\"highway\"=\"unclassified\"][\"bicycle\"!~\".*\"][\"motor_vehicle\"=\"destination\"](area.searchArea);\n",
        "way[\"highway\"=\"unclassified\"][\"bicycle\"!~\".*\"][\"motor_vehicle\"=\"delivery\"](area.searchArea);\n",
        "way[\"highway\"=\"residential\"][\"bicycle\"!~\".*\"][\"motor_vehicle\"=\"private\"](area.searchArea);\n",
        "way[\"highway\"=\"residential\"][\"bicycle\"!~\".*\"][\"motor_vehicle\"=\"no\"](area.searchArea);\n",
        "way[\"highway\"=\"residential\"][\"bicycle\"!~\".*\"][\"motor_vehicle\"=\"customers\"](area.searchArea);\n",
        "way[\"highway\"=\"residential\"][\"bicycle\"!~\".*\"][\"motor_vehicle\"=\"agricultural\"](area.searchArea);\n",
        "way[\"highway\"=\"residential\"][\"bicycle\"!~\".*\"][\"motor_vehicle\"=\"forestry\"](area.searchArea);\n",
        "way[\"highway\"=\"residential\"][\"bicycle\"!~\".*\"][\"motor_vehicle\"=\"destination\"](area.searchArea);\n",
        "way[\"highway\"=\"residential\"][\"bicycle\"!~\".*\"][\"motor_vehicle\"=\"delivery\"](area.searchArea);\n",
        "way[\"highway\"=\"track\"][\"motor_vehicle\"=\"private\"][\"bicycle\"=\"designated\"](area.searchArea);\n",
        "way[\"highway\"=\"track\"][\"motor_vehicle\"=\"private\"][\"bicycle\"=\"yes\"](area.searchArea);\n",
        "way[\"highway\"=\"track\"][\"motor_vehicle\"=\"private\"][\"bicycle\"=\"permissive\"](area.searchArea);\n",
        "way[\"highway\"=\"track\"][\"motor_vehicle\"=\"no\"][\"bicycle\"=\"designated\"](area.searchArea);\n",
        "way[\"highway\"=\"track\"][\"motor_vehicle\"=\"no\"][\"bicycle\"=\"yes\"](area.searchArea);\n",
        "way[\"highway\"=\"track\"][\"motor_vehicle\"=\"no\"][\"bicycle\"=\"permissive\"](area.searchArea);\n",
        "way[\"highway\"=\"track\"][\"motor_vehicle\"=\"customers\"][\"bicycle\"=\"designated\"](area.searchArea);\n",
        "way[\"highway\"=\"track\"][\"motor_vehicle\"=\"customers\"][\"bicycle\"=\"yes\"](area.searchArea);\n",
        "way[\"highway\"=\"track\"][\"motor_vehicle\"=\"customers\"][\"bicycle\"=\"permissive\"](area.searchArea);\n",
        "way[\"highway\"=\"track\"][\"motor_vehicle\"=\"agricultural\"][\"bicycle\"=\"designated\"](area.searchArea);\n",
        "way[\"highway\"=\"track\"][\"motor_vehicle\"=\"agricultural\"][\"bicycle\"=\"yes\"](area.searchArea);\n",
        "way[\"highway\"=\"track\"][\"motor_vehicle\"=\"agricultural\"][\"bicycle\"=\"permissive\"](area.searchArea);\n",
        "way[\"highway\"=\"track\"][\"motor_vehicle\"=\"forestry\"][\"bicycle\"=\"designated\"](area.searchArea);\n",
        "way[\"highway\"=\"track\"][\"motor_vehicle\"=\"forestry\"][\"bicycle\"=\"yes\"](area.searchArea);\n",
        "way[\"highway\"=\"track\"][\"motor_vehicle\"=\"forestry\"][\"bicycle\"=\"permissive\"](area.searchArea);\n",
        "way[\"highway\"=\"track\"][\"motor_vehicle\"=\"destination\"][\"bicycle\"=\"designated\"](area.searchArea);\n",
        "way[\"highway\"=\"track\"][\"motor_vehicle\"=\"destination\"][\"bicycle\"=\"yes\"](area.searchArea);\n",
        "way[\"highway\"=\"track\"][\"motor_vehicle\"=\"destination\"][\"bicycle\"=\"permissive\"](area.searchArea);\n",
        "way[\"highway\"=\"track\"][\"motor_vehicle\"=\"delivery\"][\"bicycle\"=\"designated\"](area.searchArea);\n",
        "way[\"highway\"=\"track\"][\"motor_vehicle\"=\"delivery\"][\"bicycle\"=\"yes\"](area.searchArea);\n",
        "way[\"highway\"=\"track\"][\"motor_vehicle\"=\"delivery\"][\"bicycle\"=\"permissive\"](area.searchArea);\n",
        "way[\"highway\"=\"track\"][\"access\"=\"private\"][\"bicycle\"=\"designated\"](area.searchArea);\n",
        "way[\"highway\"=\"track\"][\"access\"=\"private\"][\"bicycle\"=\"yes\"](area.searchArea);\n",
        "way[\"highway\"=\"track\"][\"access\"=\"private\"][\"bicycle\"=\"permissive\"](area.searchArea);\n",
        "way[\"highway\"=\"track\"][\"access\"=\"no\"][\"bicycle\"=\"designated\"](area.searchArea);\n",
        "way[\"highway\"=\"track\"][\"access\"=\"no\"][\"bicycle\"=\"yes\"](area.searchArea);\n",
        "way[\"highway\"=\"track\"][\"access\"=\"no\"][\"bicycle\"=\"permissive\"](area.searchArea);\n",
        "way[\"highway\"=\"track\"][\"access\"=\"customers\"][\"bicycle\"=\"designated\"](area.searchArea);\n",
        "way[\"highway\"=\"track\"][\"access\"=\"customers\"][\"bicycle\"=\"yes\"](area.searchArea);\n",
        "way[\"highway\"=\"track\"][\"access\"=\"customers\"][\"bicycle\"=\"permissive\"](area.searchArea);\n",
        "way[\"highway\"=\"track\"][\"access\"=\"agricultural\"][\"bicycle\"=\"designated\"](area.searchArea);\n",
        "way[\"highway\"=\"track\"][\"access\"=\"agricultural\"][\"bicycle\"=\"yes\"](area.searchArea);\n",
        "way[\"highway\"=\"track\"][\"access\"=\"agricultural\"][\"bicycle\"=\"permissive\"](area.searchArea);\n",
        "way[\"highway\"=\"track\"][\"access\"=\"forestry\"][\"bicycle\"=\"designated\"](area.searchArea);\n",
        "way[\"highway\"=\"track\"][\"access\"=\"forestry\"][\"bicycle\"=\"yes\"](area.searchArea);\n",
        "way[\"highway\"=\"track\"][\"access\"=\"forestry\"][\"bicycle\"=\"permissive\"](area.searchArea);\n",
        "way[\"highway\"=\"track\"][\"access\"=\"destination\"][\"bicycle\"=\"designated\"](area.searchArea);\n",
        "way[\"highway\"=\"track\"][\"access\"=\"destination\"][\"bicycle\"=\"yes\"](area.searchArea);\n",
        "way[\"highway\"=\"track\"][\"access\"=\"destination\"][\"bicycle\"=\"permissive\"](area.searchArea);\n",
        "way[\"highway\"=\"track\"][\"access\"=\"delivery\"][\"bicycle\"=\"designated\"](area.searchArea);\n",
        "way[\"highway\"=\"track\"][\"access\"=\"delivery\"][\"bicycle\"=\"yes\"](area.searchArea);\n",
        "way[\"highway\"=\"track\"][\"access\"=\"delivery\"][\"bicycle\"=\"permissive\"](area.searchArea);\n",
        "way[\"highway\"=\"track\"][\"vehicle\"=\"private\"][\"bicycle\"=\"designated\"](area.searchArea);\n",
        "way[\"highway\"=\"track\"][\"vehicle\"=\"private\"][\"bicycle\"=\"yes\"](area.searchArea);\n",
        "way[\"highway\"=\"track\"][\"vehicle\"=\"private\"][\"bicycle\"=\"permissive\"](area.searchArea);\n",
        "way[\"highway\"=\"track\"][\"vehicle\"=\"no\"][\"bicycle\"=\"designated\"](area.searchArea);\n",
        "way[\"highway\"=\"track\"][\"vehicle\"=\"no\"][\"bicycle\"=\"yes\"](area.searchArea);\n",
        "way[\"highway\"=\"track\"][\"vehicle\"=\"no\"][\"bicycle\"=\"permissive\"](area.searchArea);\n",
        "way[\"highway\"=\"track\"][\"vehicle\"=\"customers\"][\"bicycle\"=\"designated\"](area.searchArea);\n",
        "way[\"highway\"=\"track\"][\"vehicle\"=\"customers\"][\"bicycle\"=\"yes\"](area.searchArea);\n",
        "way[\"highway\"=\"track\"][\"vehicle\"=\"customers\"][\"bicycle\"=\"permissive\"](area.searchArea);\n",
        "way[\"highway\"=\"track\"][\"vehicle\"=\"agricultural\"][\"bicycle\"=\"designated\"](area.searchArea);\n",
        "way[\"highway\"=\"track\"][\"vehicle\"=\"agricultural\"][\"bicycle\"=\"yes\"](area.searchArea);\n",
        "way[\"highway\"=\"track\"][\"vehicle\"=\"agricultural\"][\"bicycle\"=\"permissive\"](area.searchArea);\n",
        "way[\"highway\"=\"track\"][\"vehicle\"=\"forestry\"][\"bicycle\"=\"designated\"](area.searchArea);\n",
        "way[\"highway\"=\"track\"][\"vehicle\"=\"forestry\"][\"bicycle\"=\"yes\"](area.searchArea);\n",
        "way[\"highway\"=\"track\"][\"vehicle\"=\"forestry\"][\"bicycle\"=\"permissive\"](area.searchArea);\n",
        "way[\"highway\"=\"track\"][\"vehicle\"=\"destination\"][\"bicycle\"=\"designated\"](area.searchArea);\n",
        "way[\"highway\"=\"track\"][\"vehicle\"=\"destination\"][\"bicycle\"=\"yes\"](area.searchArea);\n",
        "way[\"highway\"=\"track\"][\"vehicle\"=\"destination\"][\"bicycle\"=\"permissive\"](area.searchArea);\n",
        "way[\"highway\"=\"track\"][\"vehicle\"=\"delivery\"][\"bicycle\"=\"designated\"](area.searchArea);\n",
        "way[\"highway\"=\"track\"][\"vehicle\"=\"delivery\"][\"bicycle\"=\"yes\"](area.searchArea);\n",
        "way[\"highway\"=\"track\"][\"vehicle\"=\"delivery\"][\"bicycle\"=\"permissive\"](area.searchArea);\n",
        "way[\"highway\"=\"service\"][\"motor_vehicle\"=\"private\"][\"bicycle\"=\"designated\"](area.searchArea);\n",
        "way[\"highway\"=\"service\"][\"motor_vehicle\"=\"private\"][\"bicycle\"=\"yes\"](area.searchArea);\n",
        "way[\"highway\"=\"service\"][\"motor_vehicle\"=\"private\"][\"bicycle\"=\"permissive\"](area.searchArea);\n",
        "way[\"highway\"=\"service\"][\"motor_vehicle\"=\"no\"][\"bicycle\"=\"designated\"](area.searchArea);\n",
        "way[\"highway\"=\"service\"][\"motor_vehicle\"=\"no\"][\"bicycle\"=\"yes\"](area.searchArea);\n",
        "way[\"highway\"=\"service\"][\"motor_vehicle\"=\"no\"][\"bicycle\"=\"permissive\"](area.searchArea);\n",
        "way[\"highway\"=\"service\"][\"motor_vehicle\"=\"customers\"][\"bicycle\"=\"designated\"](area.searchArea);\n",
        "way[\"highway\"=\"service\"][\"motor_vehicle\"=\"customers\"][\"bicycle\"=\"yes\"](area.searchArea);\n",
        "way[\"highway\"=\"service\"][\"motor_vehicle\"=\"customers\"][\"bicycle\"=\"permissive\"](area.searchArea);\n",
        "way[\"highway\"=\"service\"][\"motor_vehicle\"=\"agricultural\"][\"bicycle\"=\"designated\"](area.searchArea);\n",
        "way[\"highway\"=\"service\"][\"motor_vehicle\"=\"agricultural\"][\"bicycle\"=\"yes\"](area.searchArea);\n",
        "way[\"highway\"=\"service\"][\"motor_vehicle\"=\"agricultural\"][\"bicycle\"=\"permissive\"](area.searchArea);\n",
        "way[\"highway\"=\"service\"][\"motor_vehicle\"=\"forestry\"][\"bicycle\"=\"designated\"](area.searchArea);\n",
        "way[\"highway\"=\"service\"][\"motor_vehicle\"=\"forestry\"][\"bicycle\"=\"yes\"](area.searchArea);\n",
        "way[\"highway\"=\"service\"][\"motor_vehicle\"=\"forestry\"][\"bicycle\"=\"permissive\"](area.searchArea);\n",
        "way[\"highway\"=\"service\"][\"motor_vehicle\"=\"destination\"][\"bicycle\"=\"designated\"](area.searchArea);\n",
        "way[\"highway\"=\"service\"][\"motor_vehicle\"=\"destination\"][\"bicycle\"=\"yes\"](area.searchArea);\n",
        "way[\"highway\"=\"service\"][\"motor_vehicle\"=\"destination\"][\"bicycle\"=\"permissive\"](area.searchArea);\n",
        "way[\"highway\"=\"service\"][\"motor_vehicle\"=\"delivery\"][\"bicycle\"=\"designated\"](area.searchArea);\n",
        "way[\"highway\"=\"service\"][\"motor_vehicle\"=\"delivery\"][\"bicycle\"=\"yes\"](area.searchArea);\n",
        "way[\"highway\"=\"service\"][\"motor_vehicle\"=\"delivery\"][\"bicycle\"=\"permissive\"](area.searchArea);\n",
        "way[\"highway\"=\"service\"][\"access\"=\"private\"][\"bicycle\"=\"designated\"](area.searchArea);\n",
        "way[\"highway\"=\"service\"][\"access\"=\"private\"][\"bicycle\"=\"yes\"](area.searchArea);\n",
        "way[\"highway\"=\"service\"][\"access\"=\"private\"][\"bicycle\"=\"permissive\"](area.searchArea);\n",
        "way[\"highway\"=\"service\"][\"access\"=\"no\"][\"bicycle\"=\"designated\"](area.searchArea);\n",
        "way[\"highway\"=\"service\"][\"access\"=\"no\"][\"bicycle\"=\"yes\"](area.searchArea);\n",
        "way[\"highway\"=\"service\"][\"access\"=\"no\"][\"bicycle\"=\"permissive\"](area.searchArea);\n",
        "way[\"highway\"=\"service\"][\"access\"=\"customers\"][\"bicycle\"=\"designated\"](area.searchArea);\n",
        "way[\"highway\"=\"service\"][\"access\"=\"customers\"][\"bicycle\"=\"yes\"](area.searchArea);\n",
        "way[\"highway\"=\"service\"][\"access\"=\"customers\"][\"bicycle\"=\"permissive\"](area.searchArea);\n",
        "way[\"highway\"=\"service\"][\"access\"=\"agricultural\"][\"bicycle\"=\"designated\"](area.searchArea);\n",
        "way[\"highway\"=\"service\"][\"access\"=\"agricultural\"][\"bicycle\"=\"yes\"](area.searchArea);\n",
        "way[\"highway\"=\"service\"][\"access\"=\"agricultural\"][\"bicycle\"=\"permissive\"](area.searchArea);\n",
        "way[\"highway\"=\"service\"][\"access\"=\"forestry\"][\"bicycle\"=\"designated\"](area.searchArea);\n",
        "way[\"highway\"=\"service\"][\"access\"=\"forestry\"][\"bicycle\"=\"yes\"](area.searchArea);\n",
        "way[\"highway\"=\"service\"][\"access\"=\"forestry\"][\"bicycle\"=\"permissive\"](area.searchArea);\n",
        "way[\"highway\"=\"service\"][\"access\"=\"destination\"][\"bicycle\"=\"designated\"](area.searchArea);\n",
        "way[\"highway\"=\"service\"][\"access\"=\"destination\"][\"bicycle\"=\"yes\"](area.searchArea);\n",
        "way[\"highway\"=\"service\"][\"access\"=\"destination\"][\"bicycle\"=\"permissive\"](area.searchArea);\n",
        "way[\"highway\"=\"service\"][\"access\"=\"delivery\"][\"bicycle\"=\"designated\"](area.searchArea);\n",
        "way[\"highway\"=\"service\"][\"access\"=\"delivery\"][\"bicycle\"=\"yes\"](area.searchArea);\n",
        "way[\"highway\"=\"service\"][\"access\"=\"delivery\"][\"bicycle\"=\"permissive\"](area.searchArea);\n",
        "way[\"highway\"=\"service\"][\"vehicle\"=\"private\"][\"bicycle\"=\"designated\"](area.searchArea);\n",
        "way[\"highway\"=\"service\"][\"vehicle\"=\"private\"][\"bicycle\"=\"yes\"](area.searchArea);\n",
        "way[\"highway\"=\"service\"][\"vehicle\"=\"private\"][\"bicycle\"=\"permissive\"](area.searchArea);\n",
        "way[\"highway\"=\"service\"][\"vehicle\"=\"no\"][\"bicycle\"=\"designated\"](area.searchArea);\n",
        "way[\"highway\"=\"service\"][\"vehicle\"=\"no\"][\"bicycle\"=\"yes\"](area.searchArea);\n",
        "way[\"highway\"=\"service\"][\"vehicle\"=\"no\"][\"bicycle\"=\"permissive\"](area.searchArea);\n",
        "way[\"highway\"=\"service\"][\"vehicle\"=\"customers\"][\"bicycle\"=\"designated\"](area.searchArea);\n",
        "way[\"highway\"=\"service\"][\"vehicle\"=\"customers\"][\"bicycle\"=\"yes\"](area.searchArea);\n",
        "way[\"highway\"=\"service\"][\"vehicle\"=\"customers\"][\"bicycle\"=\"permissive\"](area.searchArea);\n",
        "way[\"highway\"=\"service\"][\"vehicle\"=\"agricultural\"][\"bicycle\"=\"designated\"](area.searchArea);\n",
        "way[\"highway\"=\"service\"][\"vehicle\"=\"agricultural\"][\"bicycle\"=\"yes\"](area.searchArea);\n",
        "way[\"highway\"=\"service\"][\"vehicle\"=\"agricultural\"][\"bicycle\"=\"permissive\"](area.searchArea);\n",
        "way[\"highway\"=\"service\"][\"vehicle\"=\"forestry\"][\"bicycle\"=\"designated\"](area.searchArea);\n",
        "way[\"highway\"=\"service\"][\"vehicle\"=\"forestry\"][\"bicycle\"=\"yes\"](area.searchArea);\n",
        "way[\"highway\"=\"service\"][\"vehicle\"=\"forestry\"][\"bicycle\"=\"permissive\"](area.searchArea);\n",
        "way[\"highway\"=\"service\"][\"vehicle\"=\"destination\"][\"bicycle\"=\"designated\"](area.searchArea);\n",
        "way[\"highway\"=\"service\"][\"vehicle\"=\"destination\"][\"bicycle\"=\"yes\"](area.searchArea);\n",
        "way[\"highway\"=\"service\"][\"vehicle\"=\"destination\"][\"bicycle\"=\"permissive\"](area.searchArea);\n",
        "way[\"highway\"=\"service\"][\"vehicle\"=\"delivery\"][\"bicycle\"=\"designated\"](area.searchArea);\n",
        "way[\"highway\"=\"service\"][\"vehicle\"=\"delivery\"][\"bicycle\"=\"yes\"](area.searchArea);\n",
        "way[\"highway\"=\"service\"][\"vehicle\"=\"delivery\"][\"bicycle\"=\"permissive\"](area.searchArea);\n",
        "way[\"highway\"=\"unclassified\"][\"motor_vehicle\"=\"private\"][\"bicycle\"=\"designated\"](area.searchArea);\n",
        "way[\"highway\"=\"unclassified\"][\"motor_vehicle\"=\"private\"][\"bicycle\"=\"yes\"](area.searchArea);\n",
        "way[\"highway\"=\"unclassified\"][\"motor_vehicle\"=\"private\"][\"bicycle\"=\"permissive\"](area.searchArea);\n",
        "way[\"highway\"=\"unclassified\"][\"motor_vehicle\"=\"no\"][\"bicycle\"=\"designated\"](area.searchArea);\n",
        "way[\"highway\"=\"unclassified\"][\"motor_vehicle\"=\"no\"][\"bicycle\"=\"yes\"](area.searchArea);\n",
        "way[\"highway\"=\"unclassified\"][\"motor_vehicle\"=\"no\"][\"bicycle\"=\"permissive\"](area.searchArea);\n",
        "way[\"highway\"=\"unclassified\"][\"motor_vehicle\"=\"customers\"][\"bicycle\"=\"designated\"](area.searchArea);\n",
        "way[\"highway\"=\"unclassified\"][\"motor_vehicle\"=\"customers\"][\"bicycle\"=\"yes\"](area.searchArea);\n",
        "way[\"highway\"=\"unclassified\"][\"motor_vehicle\"=\"customers\"][\"bicycle\"=\"permissive\"](area.searchArea);\n",
        "way[\"highway\"=\"unclassified\"][\"motor_vehicle\"=\"agricultural\"][\"bicycle\"=\"designated\"](area.searchArea);\n",
        "way[\"highway\"=\"unclassified\"][\"motor_vehicle\"=\"agricultural\"][\"bicycle\"=\"yes\"](area.searchArea);\n",
        "way[\"highway\"=\"unclassified\"][\"motor_vehicle\"=\"agricultural\"][\"bicycle\"=\"permissive\"](area.searchArea);\n",
        "way[\"highway\"=\"unclassified\"][\"motor_vehicle\"=\"forestry\"][\"bicycle\"=\"designated\"](area.searchArea);\n",
        "way[\"highway\"=\"unclassified\"][\"motor_vehicle\"=\"forestry\"][\"bicycle\"=\"yes\"](area.searchArea);\n",
        "way[\"highway\"=\"unclassified\"][\"motor_vehicle\"=\"forestry\"][\"bicycle\"=\"permissive\"](area.searchArea);\n",
        "way[\"highway\"=\"unclassified\"][\"motor_vehicle\"=\"destination\"][\"bicycle\"=\"designated\"](area.searchArea);\n",
        "way[\"highway\"=\"unclassified\"][\"motor_vehicle\"=\"destination\"][\"bicycle\"=\"yes\"](area.searchArea);\n",
        "way[\"highway\"=\"unclassified\"][\"motor_vehicle\"=\"destination\"][\"bicycle\"=\"permissive\"](area.searchArea);\n",
        "way[\"highway\"=\"unclassified\"][\"motor_vehicle\"=\"delivery\"][\"bicycle\"=\"designated\"](area.searchArea);\n",
        "way[\"highway\"=\"unclassified\"][\"motor_vehicle\"=\"delivery\"][\"bicycle\"=\"yes\"](area.searchArea);\n",
        "way[\"highway\"=\"unclassified\"][\"motor_vehicle\"=\"delivery\"][\"bicycle\"=\"permissive\"](area.searchArea);\n",
        "way[\"highway\"=\"unclassified\"][\"access\"=\"private\"][\"bicycle\"=\"designated\"](area.searchArea);\n",
        "way[\"highway\"=\"unclassified\"][\"access\"=\"private\"][\"bicycle\"=\"yes\"](area.searchArea);\n",
        "way[\"highway\"=\"unclassified\"][\"access\"=\"private\"][\"bicycle\"=\"permissive\"](area.searchArea);\n",
        "way[\"highway\"=\"unclassified\"][\"access\"=\"no\"][\"bicycle\"=\"designated\"](area.searchArea);\n",
        "way[\"highway\"=\"unclassified\"][\"access\"=\"no\"][\"bicycle\"=\"yes\"](area.searchArea);\n",
        "way[\"highway\"=\"unclassified\"][\"access\"=\"no\"][\"bicycle\"=\"permissive\"](area.searchArea);\n",
        "way[\"highway\"=\"unclassified\"][\"access\"=\"customers\"][\"bicycle\"=\"designated\"](area.searchArea);\n",
        "way[\"highway\"=\"unclassified\"][\"access\"=\"customers\"][\"bicycle\"=\"yes\"](area.searchArea);\n",
        "way[\"highway\"=\"unclassified\"][\"access\"=\"customers\"][\"bicycle\"=\"permissive\"](area.searchArea);\n",
        "way[\"highway\"=\"unclassified\"][\"access\"=\"agricultural\"][\"bicycle\"=\"designated\"](area.searchArea);\n",
        "way[\"highway\"=\"unclassified\"][\"access\"=\"agricultural\"][\"bicycle\"=\"yes\"](area.searchArea);\n",
        "way[\"highway\"=\"unclassified\"][\"access\"=\"agricultural\"][\"bicycle\"=\"permissive\"](area.searchArea);\n",
        "way[\"highway\"=\"unclassified\"][\"access\"=\"forestry\"][\"bicycle\"=\"designated\"](area.searchArea);\n",
        "way[\"highway\"=\"unclassified\"][\"access\"=\"forestry\"][\"bicycle\"=\"yes\"](area.searchArea);\n",
        "way[\"highway\"=\"unclassified\"][\"access\"=\"forestry\"][\"bicycle\"=\"permissive\"](area.searchArea);\n",
        "way[\"highway\"=\"unclassified\"][\"access\"=\"destination\"][\"bicycle\"=\"designated\"](area.searchArea);\n",
        "way[\"highway\"=\"unclassified\"][\"access\"=\"destination\"][\"bicycle\"=\"yes\"](area.searchArea);\n",
        "way[\"highway\"=\"unclassified\"][\"access\"=\"destination\"][\"bicycle\"=\"permissive\"](area.searchArea);\n",
        "way[\"highway\"=\"unclassified\"][\"access\"=\"delivery\"][\"bicycle\"=\"designated\"](area.searchArea);\n",
        "way[\"highway\"=\"unclassified\"][\"access\"=\"delivery\"][\"bicycle\"=\"yes\"](area.searchArea);\n",
        "way[\"highway\"=\"unclassified\"][\"access\"=\"delivery\"][\"bicycle\"=\"permissive\"](area.searchArea);\n",
        "way[\"highway\"=\"unclassified\"][\"vehicle\"=\"private\"][\"bicycle\"=\"designated\"](area.searchArea);\n",
        "way[\"highway\"=\"unclassified\"][\"vehicle\"=\"private\"][\"bicycle\"=\"yes\"](area.searchArea);\n",
        "way[\"highway\"=\"unclassified\"][\"vehicle\"=\"private\"][\"bicycle\"=\"permissive\"](area.searchArea);\n",
        "way[\"highway\"=\"unclassified\"][\"vehicle\"=\"no\"][\"bicycle\"=\"designated\"](area.searchArea);\n",
        "way[\"highway\"=\"unclassified\"][\"vehicle\"=\"no\"][\"bicycle\"=\"yes\"](area.searchArea);\n",
        "way[\"highway\"=\"unclassified\"][\"vehicle\"=\"no\"][\"bicycle\"=\"permissive\"](area.searchArea);\n",
        "way[\"highway\"=\"unclassified\"][\"vehicle\"=\"customers\"][\"bicycle\"=\"designated\"](area.searchArea);\n",
        "way[\"highway\"=\"unclassified\"][\"vehicle\"=\"customers\"][\"bicycle\"=\"yes\"](area.searchArea);\n",
        "way[\"highway\"=\"unclassified\"][\"vehicle\"=\"customers\"][\"bicycle\"=\"permissive\"](area.searchArea);\n",
        "way[\"highway\"=\"unclassified\"][\"vehicle\"=\"agricultural\"][\"bicycle\"=\"designated\"](area.searchArea);\n",
        "way[\"highway\"=\"unclassified\"][\"vehicle\"=\"agricultural\"][\"bicycle\"=\"yes\"](area.searchArea);\n",
        "way[\"highway\"=\"unclassified\"][\"vehicle\"=\"agricultural\"][\"bicycle\"=\"permissive\"](area.searchArea);\n",
        "way[\"highway\"=\"unclassified\"][\"vehicle\"=\"forestry\"][\"bicycle\"=\"designated\"](area.searchArea);\n",
        "way[\"highway\"=\"unclassified\"][\"vehicle\"=\"forestry\"][\"bicycle\"=\"yes\"](area.searchArea);\n",
        "way[\"highway\"=\"unclassified\"][\"vehicle\"=\"forestry\"][\"bicycle\"=\"permissive\"](area.searchArea);\n",
        "way[\"highway\"=\"unclassified\"][\"vehicle\"=\"destination\"][\"bicycle\"=\"designated\"](area.searchArea);\n",
        "way[\"highway\"=\"unclassified\"][\"vehicle\"=\"destination\"][\"bicycle\"=\"yes\"](area.searchArea);\n",
        "way[\"highway\"=\"unclassified\"][\"vehicle\"=\"destination\"][\"bicycle\"=\"permissive\"](area.searchArea);\n",
        "way[\"highway\"=\"unclassified\"][\"vehicle\"=\"delivery\"][\"bicycle\"=\"designated\"](area.searchArea);\n",
        "way[\"highway\"=\"unclassified\"][\"vehicle\"=\"delivery\"][\"bicycle\"=\"yes\"](area.searchArea);\n",
        "way[\"highway\"=\"unclassified\"][\"vehicle\"=\"delivery\"][\"bicycle\"=\"permissive\"](area.searchArea);\n",
        "way[\"highway\"=\"residential\"][\"motor_vehicle\"=\"private\"][\"bicycle\"=\"designated\"](area.searchArea);\n",
        "way[\"highway\"=\"residential\"][\"motor_vehicle\"=\"private\"][\"bicycle\"=\"yes\"](area.searchArea);\n",
        "way[\"highway\"=\"residential\"][\"motor_vehicle\"=\"private\"][\"bicycle\"=\"permissive\"](area.searchArea);\n",
        "way[\"highway\"=\"residential\"][\"motor_vehicle\"=\"no\"][\"bicycle\"=\"designated\"](area.searchArea);\n",
        "way[\"highway\"=\"residential\"][\"motor_vehicle\"=\"no\"][\"bicycle\"=\"yes\"](area.searchArea);\n",
        "way[\"highway\"=\"residential\"][\"motor_vehicle\"=\"no\"][\"bicycle\"=\"permissive\"](area.searchArea);\n",
        "way[\"highway\"=\"residential\"][\"motor_vehicle\"=\"customers\"][\"bicycle\"=\"designated\"](area.searchArea);\n",
        "way[\"highway\"=\"residential\"][\"motor_vehicle\"=\"customers\"][\"bicycle\"=\"yes\"](area.searchArea);\n",
        "way[\"highway\"=\"residential\"][\"motor_vehicle\"=\"customers\"][\"bicycle\"=\"permissive\"](area.searchArea);\n",
        "way[\"highway\"=\"residential\"][\"motor_vehicle\"=\"agricultural\"][\"bicycle\"=\"designated\"](area.searchArea);\n",
        "way[\"highway\"=\"residential\"][\"motor_vehicle\"=\"agricultural\"][\"bicycle\"=\"yes\"](area.searchArea);\n",
        "way[\"highway\"=\"residential\"][\"motor_vehicle\"=\"agricultural\"][\"bicycle\"=\"permissive\"](area.searchArea);\n",
        "way[\"highway\"=\"residential\"][\"motor_vehicle\"=\"forestry\"][\"bicycle\"=\"designated\"](area.searchArea);\n",
        "way[\"highway\"=\"residential\"][\"motor_vehicle\"=\"forestry\"][\"bicycle\"=\"yes\"](area.searchArea);\n",
        "way[\"highway\"=\"residential\"][\"motor_vehicle\"=\"forestry\"][\"bicycle\"=\"permissive\"](area.searchArea);\n",
        "way[\"highway\"=\"residential\"][\"motor_vehicle\"=\"destination\"][\"bicycle\"=\"designated\"](area.searchArea);\n",
        "way[\"highway\"=\"residential\"][\"motor_vehicle\"=\"destination\"][\"bicycle\"=\"yes\"](area.searchArea);\n",
        "way[\"highway\"=\"residential\"][\"motor_vehicle\"=\"destination\"][\"bicycle\"=\"permissive\"](area.searchArea);\n",
        "way[\"highway\"=\"residential\"][\"motor_vehicle\"=\"delivery\"][\"bicycle\"=\"designated\"](area.searchArea);\n",
        "way[\"highway\"=\"residential\"][\"motor_vehicle\"=\"delivery\"][\"bicycle\"=\"yes\"](area.searchArea);\n",
        "way[\"highway\"=\"residential\"][\"motor_vehicle\"=\"delivery\"][\"bicycle\"=\"permissive\"](area.searchArea);\n",
        "way[\"highway\"=\"residential\"][\"access\"=\"private\"][\"bicycle\"=\"designated\"](area.searchArea);\n",
        "way[\"highway\"=\"residential\"][\"access\"=\"private\"][\"bicycle\"=\"yes\"](area.searchArea);\n",
        "way[\"highway\"=\"residential\"][\"access\"=\"private\"][\"bicycle\"=\"permissive\"](area.searchArea);\n",
        "way[\"highway\"=\"residential\"][\"access\"=\"no\"][\"bicycle\"=\"designated\"](area.searchArea);\n",
        "way[\"highway\"=\"residential\"][\"access\"=\"no\"][\"bicycle\"=\"yes\"](area.searchArea);\n",
        "way[\"highway\"=\"residential\"][\"access\"=\"no\"][\"bicycle\"=\"permissive\"](area.searchArea);\n",
        "way[\"highway\"=\"residential\"][\"access\"=\"customers\"][\"bicycle\"=\"designated\"](area.searchArea);\n",
        "way[\"highway\"=\"residential\"][\"access\"=\"customers\"][\"bicycle\"=\"yes\"](area.searchArea);\n",
        "way[\"highway\"=\"residential\"][\"access\"=\"customers\"][\"bicycle\"=\"permissive\"](area.searchArea);\n",
        "way[\"highway\"=\"residential\"][\"access\"=\"agricultural\"][\"bicycle\"=\"designated\"](area.searchArea);\n",
        "way[\"highway\"=\"residential\"][\"access\"=\"agricultural\"][\"bicycle\"=\"yes\"](area.searchArea);\n",
        "way[\"highway\"=\"residential\"][\"access\"=\"agricultural\"][\"bicycle\"=\"permissive\"](area.searchArea);\n",
        "way[\"highway\"=\"residential\"][\"access\"=\"forestry\"][\"bicycle\"=\"designated\"](area.searchArea);\n",
        "way[\"highway\"=\"residential\"][\"access\"=\"forestry\"][\"bicycle\"=\"yes\"](area.searchArea);\n",
        "way[\"highway\"=\"residential\"][\"access\"=\"forestry\"][\"bicycle\"=\"permissive\"](area.searchArea);\n",
        "way[\"highway\"=\"residential\"][\"access\"=\"destination\"][\"bicycle\"=\"designated\"](area.searchArea);\n",
        "way[\"highway\"=\"residential\"][\"access\"=\"destination\"][\"bicycle\"=\"yes\"](area.searchArea);\n",
        "way[\"highway\"=\"residential\"][\"access\"=\"destination\"][\"bicycle\"=\"permissive\"](area.searchArea);\n",
        "way[\"highway\"=\"residential\"][\"access\"=\"delivery\"][\"bicycle\"=\"designated\"](area.searchArea);\n",
        "way[\"highway\"=\"residential\"][\"access\"=\"delivery\"][\"bicycle\"=\"yes\"](area.searchArea);\n",
        "way[\"highway\"=\"residential\"][\"access\"=\"delivery\"][\"bicycle\"=\"permissive\"](area.searchArea);\n",
        "way[\"highway\"=\"residential\"][\"vehicle\"=\"private\"][\"bicycle\"=\"designated\"](area.searchArea);\n",
        "way[\"highway\"=\"residential\"][\"vehicle\"=\"private\"][\"bicycle\"=\"yes\"](area.searchArea);\n",
        "way[\"highway\"=\"residential\"][\"vehicle\"=\"private\"][\"bicycle\"=\"permissive\"](area.searchArea);\n",
        "way[\"highway\"=\"residential\"][\"vehicle\"=\"no\"][\"bicycle\"=\"designated\"](area.searchArea);\n",
        "way[\"highway\"=\"residential\"][\"vehicle\"=\"no\"][\"bicycle\"=\"yes\"](area.searchArea);\n",
        "way[\"highway\"=\"residential\"][\"vehicle\"=\"no\"][\"bicycle\"=\"permissive\"](area.searchArea);\n",
        "way[\"highway\"=\"residential\"][\"vehicle\"=\"customers\"][\"bicycle\"=\"designated\"](area.searchArea);\n",
        "way[\"highway\"=\"residential\"][\"vehicle\"=\"customers\"][\"bicycle\"=\"yes\"](area.searchArea);\n",
        "way[\"highway\"=\"residential\"][\"vehicle\"=\"customers\"][\"bicycle\"=\"permissive\"](area.searchArea);\n",
        "way[\"highway\"=\"residential\"][\"vehicle\"=\"agricultural\"][\"bicycle\"=\"designated\"](area.searchArea);\n",
        "way[\"highway\"=\"residential\"][\"vehicle\"=\"agricultural\"][\"bicycle\"=\"yes\"](area.searchArea);\n",
        "way[\"highway\"=\"residential\"][\"vehicle\"=\"agricultural\"][\"bicycle\"=\"permissive\"](area.searchArea);\n",
        "way[\"highway\"=\"residential\"][\"vehicle\"=\"forestry\"][\"bicycle\"=\"designated\"](area.searchArea);\n",
        "way[\"highway\"=\"residential\"][\"vehicle\"=\"forestry\"][\"bicycle\"=\"yes\"](area.searchArea);\n",
        "way[\"highway\"=\"residential\"][\"vehicle\"=\"forestry\"][\"bicycle\"=\"permissive\"](area.searchArea);\n",
        "way[\"highway\"=\"residential\"][\"vehicle\"=\"destination\"][\"bicycle\"=\"designated\"](area.searchArea);\n",
        "way[\"highway\"=\"residential\"][\"vehicle\"=\"destination\"][\"bicycle\"=\"yes\"](area.searchArea);\n",
        "way[\"highway\"=\"residential\"][\"vehicle\"=\"destination\"][\"bicycle\"=\"permissive\"](area.searchArea);\n",
        "way[\"highway\"=\"residential\"][\"vehicle\"=\"delivery\"][\"bicycle\"=\"designated\"](area.searchArea);\n",
        "way[\"highway\"=\"residential\"][\"vehicle\"=\"delivery\"][\"bicycle\"=\"yes\"](area.searchArea);\n",
        "way[\"highway\"=\"residential\"][\"vehicle\"=\"delivery\"][\"bicycle\"=\"permissive\"](area.searchArea);\n",
        "way[\"highway\"=\"track\"][\"bicycle\"=\"designated\"][\"motor_vehicle\"!~\".*\"][\"access\"!~\".*\"][\"vehicle\"!~\".*\"](area.searchArea);\n",
        "way[\"highway\"=\"track\"][\"bicycle\"=\"yes\"][\"motor_vehicle\"!~\".*\"][\"access\"!~\".*\"][\"vehicle\"!~\".*\"](area.searchArea);\n",
        "way[\"highway\"=\"track\"][\"bicycle\"=\"permissive\"][\"motor_vehicle\"!~\".*\"][\"access\"!~\".*\"][\"vehicle\"!~\".*\"](area.searchArea);\n",
        "way[\"highway\"=\"living_street\"][\"area\"!=\"yes\"](area.searchArea);\n",
        "way[\"bicycle_road\"=\"yes\"](area.searchArea);\n",
        "way[\"highway\"=\"pedestrian\"][\"bicycle\"=\"designated\"][\"area\"!=\"yes\"](area.searchArea);\n",
        "way[\"highway\"=\"pedestrian\"][\"bicycle\"=\"yes\"][\"area\"!=\"yes\"](area.searchArea);\n",
        "way[\"highway\"=\"pedestrian\"][\"bicycle\"=\"permissive\"][\"area\"!=\"yes\"](area.searchArea);\n",
        ");\n",
        "(._;>;);\n",
        "out meta;\n",
        "\"\"\""
      ]
    },
    {
      "cell_type": "markdown",
      "metadata": {
        "id": "fn9I-vk3xjan"
      },
      "source": [
        "⏩ You can define your own infrastructure class if you wish, otherwise just run this cell and leave everything as it is:"
      ]
    },
    {
      "cell_type": "code",
      "execution_count": null,
      "metadata": {
        "id": "Frq7N7vZR1KK"
      },
      "outputs": [],
      "source": [
        "#### OWN QUERY ####\n",
        "if os.path.exists(f\"{diskpath}/osm_data/export_own_osm2geojson.osm\"):\n",
        "    print(\"Delete existing file with own infrastructure data\")\n",
        "    os.remove(f\"{diskpath}/osm_data/export_own_osm2geojson.osm\")\n",
        "\n",
        "# Put your own query here\n",
        "query_own = \"\""
      ]
    },
    {
      "cell_type": "markdown",
      "metadata": {
        "id": "tWQ4OkgdOHIL"
      },
      "source": [
        "The data is retrieved from OSM using the Overpass API and the appropriate queries. This data is used to create a graph, nodes and edges for each bicycle infrastructure.\n",
        "\n",
        "The graph is used for topological evaluations, in this notebook these are the betweenness centrality and orientation of the bicycle infrastructure.\n",
        "Edges and nodes of the bicycle infrastructure network are derived from the graph; the former is used to visualise the network in the maps and plots.\n",
        "Finally, a GeoDataFrame is generated directly from the OSM data. This contains additional metadata. The version of the OSM features (Linus Law) is analysed with this dataset."
      ]
    },
    {
      "cell_type": "code",
      "execution_count": null,
      "metadata": {},
      "outputs": [],
      "source": [
        "#### CALL TO OVERPASS API ####\n",
        "\"\"\"\n",
        "The dictionary for each 'infr_class' contains the following elements:\n",
        "\n",
        "- 'query': The query statement to retrieve data.\n",
        "- 'name': The name of the infrastructure class.\n",
        "- 'color': A unique color for visual representation.\n",
        "- 'graph': routable directed and simplified OSMNX graph. \n",
        "  This graph is routable and represents the infrastructure in both directions (i.e. if edges are bidirectional, they exist twice).\n",
        "  Like the other graphs it is projected and clipped to the study area at the next edge outside the study area.\n",
        "- 'gdf_xml': A separate GeoDataFrame directly from the XML file. This GeoDataFrame includes 'version' and 'timestamp' columns,\n",
        "  which are part of the Overpass API's meta output. Note that osmnx does not provide this metadata. However, the XML-derived\n",
        "  GeoDataFrame is not routable and contains the original number of OSM features. The nodes which were used for osmnx will be excluded.\n",
        "  To prevent errors, if there are no features a empty GDF is created.\n",
        "\"\"\"\n",
        "dict_cycle_tracks = {\n",
        "    \"query\": query_cycletracks,\n",
        "    \"name\": \"cycle_tracks\",\n",
        "    \"color\": \"#0a007b\",\n",
        "    \"graph\": \"\",\n",
        "}\n",
        "dict_cycle_lanes = {\n",
        "    \"query\": query_cyclelanes,\n",
        "    \"name\": \"cycle_lanes\",\n",
        "    \"color\": \"#006bff\",\n",
        "    \"graph\": \"\",\n",
        "}\n",
        "dict_calm_traffic_ways = {\n",
        "    \"query\": query_calmtrafficways,\n",
        "    \"name\": \"calm_traffic_ways\",\n",
        "    \"color\": \"#c63ddb\",\n",
        "    \"graph\": \"\",\n",
        "}\n",
        "dict_own = {\"query\": query_own, \"name\": \"own\", \"color\": \"green\", \"graph\": \"\"}\n",
        "ls_classes = [dict_cycle_tracks, dict_cycle_lanes, dict_calm_traffic_ways, dict_own]\n",
        "\n",
        "# Call Overpass API, built a OSMNX graph and a GeoDataFrame and update the dictionary with 'to_data_dict'\n",
        "ls_classes = to_data_dict(\n",
        "    ls_classes=ls_classes, area_name=nominatim_area, diskpath=diskpath, clip=False\n",
        ")"
      ]
    },
    {
      "cell_type": "code",
      "execution_count": null,
      "metadata": {
        "id": "B5G1FEKeLI1N"
      },
      "outputs": [],
      "source": [
        "#### TOTAL INFRASTRUCTURE ####\n",
        "\"\"\"\n",
        "The dictionary for the total infrastructure (combined classes) contains the following elements:\n",
        "\n",
        "- 'name': The name of the infrastructure class.\n",
        "- 'color': A unique color for visual representation.\n",
        "- 'graph': routable directed and simplified OSMNX graph. \n",
        "  This graph is routable and represents the infrastructure in both directions (i.e. if edges are bidirectional, they exist twice).\n",
        "  Like the other graphs it is projected and clipped to the study area at the next edge outside the study area.\n",
        "- 'gdf_xml': A separate GeoDataFrame directly from the XML file. This GeoDataFrame includes 'version' and 'timestamp' columns,\n",
        "  which are part of the Overpass API's meta output. Note that osmnx does not provide this metadata. However, the XML-derived\n",
        "  GeoDataFrame is not routable and contains the original number of OSM features.\n",
        "\"\"\"\n",
        "\n",
        "# Create a list of non-empty MultiDiGraphs created in the section above\n",
        "graphs = [\n",
        "    dict_cycle_tracks[\"graph\"],\n",
        "    dict_cycle_lanes[\"graph\"],\n",
        "    dict_calm_traffic_ways[\"graph\"],\n",
        "    dict_own[\"graph\"],\n",
        "]\n",
        "graphs_valid = [x for x in graphs if x]  # only non-empty graphs allowed\n",
        "\n",
        "if graphs_valid:\n",
        "    # Combine the Graphs together into one if Gs_valid is not empty\n",
        "    combined_Gs = nx.compose_all(graphs_valid)\n",
        "    combined_Gs = osmnx.simplification.simplify_graph(combined_Gs)\n",
        "else:\n",
        "    raise ValueError(\"NO INFRASTRUCTURE IN YOUR STUDY AREA. STOPPING SCRIPT.\")\n",
        "\n",
        "\n",
        "# New column with infrastructure class to distinguish infr_classes in total GeoDataFrame\n",
        "dict_cycle_tracks[\"gdf_xml\"][\"infr_class\"] = \"Cycle Tracks\"\n",
        "dict_cycle_lanes[\"gdf_xml\"][\"infr_class\"] = \"Cycle Lanes\"\n",
        "dict_calm_traffic_ways[\"gdf_xml\"][\"infr_class\"] = \"Calm Traffic Ways\"\n",
        "dict_own[\"gdf_xml\"][\"infr_class\"] = \"Own Infrastructure\"\n",
        "\n",
        "# Combine all classes in one total GeoDataFrame\n",
        "combined_GDFs = gpd.GeoDataFrame(\n",
        "    pd.concat(\n",
        "        [\n",
        "            dict_cycle_tracks[\"gdf_xml\"],\n",
        "            dict_cycle_lanes[\"gdf_xml\"],\n",
        "            dict_calm_traffic_ways[\"gdf_xml\"],\n",
        "            dict_own[\"gdf_xml\"],\n",
        "        ],\n",
        "        ignore_index=True,\n",
        "    ),\n",
        "    crs=[\n",
        "        dict_cycle_tracks[\"gdf_xml\"],\n",
        "        dict_cycle_lanes[\"gdf_xml\"],\n",
        "        dict_calm_traffic_ways[\"gdf_xml\"],\n",
        "        dict_own[\"gdf_xml\"],\n",
        "    ][0].crs,\n",
        ")\n",
        "\n",
        "dict_total = {\"color\": \"#323232\", \"graph\": combined_Gs, \"gdf_xml\": combined_GDFs}\n"
      ]
    },
    {
      "cell_type": "markdown",
      "metadata": {},
      "source": [
        "In some rare cases there can be duplicates. This is the case when a feature is classified in more than one infrastructure class (for example because a street is a calm traffic way and has in addition cycle lanes)."
      ]
    },
    {
      "cell_type": "code",
      "execution_count": null,
      "metadata": {},
      "outputs": [],
      "source": [
        "# Drop duplicates in the GeoDataFrames\n",
        "if dict_total[\"gdf_xml\"].duplicated(\"geometry\").any():\n",
        "    print(\"Duplicates in GeodataFrame dropped.\")\n",
        "dict_total[\"gdf_xml\"].drop_duplicates(subset=\"geometry\", keep=\"first\", inplace=True)"
      ]
    },
    {
      "cell_type": "markdown",
      "metadata": {},
      "source": [
        "# E1: First Overview of Study Area and Bicycle Infrastructure"
      ]
    },
    {
      "cell_type": "markdown",
      "metadata": {},
      "source": [
        "Get a first overview of the bicycle infrastructure in your study area with some basic maps and charts."
      ]
    },
    {
      "cell_type": "markdown",
      "metadata": {
        "id": "MXw58WYtulbQ"
      },
      "source": [
        "## Overview Maps and Orientation of bicycle infrastructure"
      ]
    },
    {
      "cell_type": "markdown",
      "metadata": {
        "id": "HLuMooXUMhaU"
      },
      "source": [
        "The following maps and charts provide a spatial **overview of the characteristics of each infrastructure** in your study area.\n",
        "\n",
        "In addition, the **orientation** of the infrastructure is calculated. This shows in which directions the cycling infrastructure as a whole is oriented and gives a sense of where the main infrastructure is oriented. For further background information see\n",
        "* Boeing, G. (2019). Urban Spatial Order: Road network orientation, configuration and entropy. Applied Network Science, 4 (1), 67. https://doi.org/10.1007/s41109-019-0189-1"
      ]
    },
    {
      "cell_type": "code",
      "execution_count": null,
      "metadata": {
        "colab": {
          "base_uri": "https://localhost:8080/",
          "height": 772
        },
        "id": "WF0GYzQl3ULZ",
        "outputId": "475e6184-11cf-4f51-bad2-af809a5fd140"
      },
      "outputs": [],
      "source": [
        "plot_infr(dict_cycle_tracks, \"Cycle Tracks\", nominatim_area)"
      ]
    },
    {
      "cell_type": "code",
      "execution_count": null,
      "metadata": {
        "colab": {
          "base_uri": "https://localhost:8080/",
          "height": 563
        },
        "id": "Kom1AQKMqJ1-",
        "outputId": "1fcc10dc-7133-49b8-fb70-63aa9d049cb9"
      },
      "outputs": [],
      "source": [
        "plot_infr(dict_cycle_lanes, \"Cycle Lanes\", nominatim_area)"
      ]
    },
    {
      "cell_type": "code",
      "execution_count": null,
      "metadata": {
        "colab": {
          "base_uri": "https://localhost:8080/",
          "height": 1000
        },
        "id": "L1GioGohHapz",
        "outputId": "1c4e60c5-834d-46b4-a22f-a1bf9be56130"
      },
      "outputs": [],
      "source": [
        "plot_infr(dict_calm_traffic_ways, \"Calm Traffic Lanes\", nominatim_area)"
      ]
    },
    {
      "cell_type": "code",
      "execution_count": null,
      "metadata": {
        "id": "yYoGi4PMUJG7"
      },
      "outputs": [],
      "source": [
        "if dict_own[\"query\"]:\n",
        "    plot_infr(dict_own, \"Own Infrastructure Class\", nominatim_area)"
      ]
    },
    {
      "cell_type": "code",
      "execution_count": null,
      "metadata": {
        "colab": {
          "base_uri": "https://localhost:8080/",
          "height": 1000
        },
        "id": "BJDmS-GGFhB7",
        "outputId": "caa4f643-b6b0-4707-b3fb-e325e7ae6cb6"
      },
      "outputs": [],
      "source": [
        "plot_infr(dict_total, \"Total Infrastructure\", nominatim_area)"
      ]
    },
    {
      "cell_type": "markdown",
      "metadata": {
        "id": "czNX0sKd9J4f"
      },
      "source": [
        "## Betweenness Centrality"
      ]
    },
    {
      "cell_type": "markdown",
      "metadata": {
        "id": "b4mEfb-fWIB2"
      },
      "source": [
        "Betweenness centrality can give a sense of **how important each node or edge is in a network**. It is a graph theory metric that measures the importance of a node or edge by counting how many shortest paths pass through it, indicating its role in connecting different parts of the network.\n",
        "\n",
        "In the context of cycle networks, it helps to get an overview of important edges where many others converge. However, due to the often disconnected and fragmented nature of cycle networks, the validity of betweenness centrality may be limited.\n",
        "\n",
        "For more theoretical background information see:\n",
        "* Porta, S., Crucitti, P., & Latora, V. (2006). The Network Analysis of Urban Streets: A Primal Approach. Environment and Planning B: Planning and Design, 33(5), 705-725. https://doi.org/10.1068/b32045\n",
        "* [Betweenness centrality on Wikipedia](https://en.wikipedia.org/wiki/Betweenness_centrality)\n",
        "* [Betweenness centrality on the documentation of the python library](https://docs.momepy.org/en/stable/generated/momepy.betweenness_centrality.html) and the corresponding  paper: <br> Fleischmann, M. (2019) ‘momepy: Urban Morphology Measuring Toolkit’, Journal of Open Source Software, 4(43), p. 1807. https://doi.org/10.21105/joss.01807\n",
        "\n",
        "For an example study using betweenness centrality with bicycle networks:\n",
        "* Beck, B., Pettit, C., Winters, M., Nelson, T., Vu, H. L., Nice, K., … Saberi, M. (2024). Association between network characteristics and bicycle ridership across a large metropolitan region. International Journal of Sustainable Transportation, 18(4), 344–355. https://doi.org/10.1080/15568318.2024.2308266\n"
      ]
    },
    {
      "cell_type": "code",
      "execution_count": null,
      "metadata": {
        "id": "67WQ29kpLE1u"
      },
      "outputs": [],
      "source": [
        "#### BETWEENNESS CENTRALITY PREPARATION ####\n",
        "\n",
        "# Project to appropriate UTM CRS\n",
        "combined_graphs = osmnx.projection.project_graph(dict_total[\"graph\"])\n",
        "\n",
        "# Convert the undirected version of the combined graph to a GeoDataFrame of edges.\n",
        "graphs_edges = osmnx.graph_to_gdfs(\n",
        "    osmnx.convert.to_undirected(combined_graphs),\n",
        "    nodes=False,\n",
        "    edges=True,\n",
        "    node_geometry=False,\n",
        "    fill_edge_geometry=True,\n",
        ")\n",
        "\n",
        "# Convert the GeoDataFrame of edges to a NetworkX graph using the 'primal' approach.\n",
        "primal = momepy.gdf_to_nx(graphs_edges, approach=\"primal\")\n",
        "# Compute the betweenness centrality for each edge in the graph with attribute betweenness_metric_e (centrality values)\n",
        "primal = momepy.betweenness_centrality(\n",
        "    primal, name=\"betweenness_metric_e\", mode=\"edges\", weight=\"mm_len\"\n",
        ")"
      ]
    },
    {
      "cell_type": "code",
      "execution_count": null,
      "metadata": {
        "colab": {
          "base_uri": "https://localhost:8080/",
          "height": 849
        },
        "id": "PYZ13hH8bl85",
        "outputId": "a6116153-474d-43a5-c187-308a9ae2ce68"
      },
      "outputs": [],
      "source": [
        "#### BETWEENESS CENTRALITY PLOT ####\n",
        "# Back to GDF\n",
        "primal_gdf = momepy.nx_to_gdf(primal, points=False)\n",
        "\n",
        "# Convert the GeoDataFrame to Web Mercator projection\n",
        "primal_gdf = primal_gdf.to_crs(epsg=3857)\n",
        "\n",
        "# Plot wit plt.plot\n",
        "f, ax = plt.subplots(figsize=(10, 10))\n",
        "primal_gdf.plot(\n",
        "    ax=ax,\n",
        "    column=\"betweenness_metric_e\",\n",
        "    cmap=\"inferno_r\",\n",
        "    scheme=\"quantiles\",\n",
        "    alpha=1,\n",
        "    linewidth=2,\n",
        ")\n",
        "ax.set_axis_off()\n",
        "ax.set_title(\"Betweeness Centrality Edge Based\")\n",
        "\n",
        "# Add contextily basemap\n",
        "cx.add_basemap(\n",
        "    ax,\n",
        "    source=\"https://tile.thunderforest.com/atlas/{z}/{x}/{y}.png?apikey=3ad11fafa2564c1183c66f15224857b5\",\n",
        ")\n",
        "plt.show()"
      ]
    },
    {
      "cell_type": "markdown",
      "metadata": {
        "id": "Z6bYSn9e24YB"
      },
      "source": [
        "# E2: History Analysis"
      ]
    },
    {
      "cell_type": "markdown",
      "metadata": {
        "id": "AGpL-Ajkbl8Y"
      },
      "source": [
        "This evaluation shows the **bicycle infrastructure in a time series** with [OSHDB](https://github.com/GIScience/oshdb) and OSHOME API. OSHDB stands for OpenStreetMap History Database and allows you to analyse the history of OpenStreetMap feature objects since 2008 for every possible region and time. OSHDB is written in Java, but is accessible with the [OSHOME Web API](https://docs.ohsome.org/ohsome-api/v1/).\n",
        "\n",
        "<center>\n",
        "<img src='https://i.imgur.com/cJ1GLrv.png' alt='drawing' width='400'/><br>\n",
        "<small><i>Scheme of OSHDB from Auer et. al (2018)</i></small>\n",
        "</center>\n",
        "\n",
        "Depending on the growth rates, **you can estimate how complete the cycling infrastructure is** in your study area. This qualitative indicator helps to get a first impression. It is particularly useful when comparing with other areas, different infrastructure classes and their growth rates. For more information on the relationship between time and OSM completeness, see\n",
        "* Barron, C., Neis, P. and Zipf, A. (2014). A Comprehensive Framework for Intrinsic OpenStreetMap Quality Analysis. Transactions in GIS, 18: 877-895. https://doi.org/10.1111/tgis.12073\n",
        "* Neis, P., Zielstra, D., and Zipf, A. (2013). \"Comparison of Volunteered Geographic Information Data Contributions and Community Development for Selected World Regions\" Future Internet 5, no. 2: 282-300. https://doi.org/10.3390/fi5020282\n",
        "\n",
        "For more information on the OHSOME platform see:\n",
        "* Auer, M., Eckle, M., Fendrich, S., Kowatsch, F., Loos, L., Marx, S., Raifer, M., Schott, M., Troilo, R., Zipf, A. (2018). Ohsome – eine Plattform zur Analyse raumzeitlicher Entwicklungen von OpenStreetMap-Daten für intrinsische Qualitätsbewertungen. AGIT ‒ Journal für Angewandte Geoinformatik, 4-2018: 162-167. https://doi.org/10.14627/537647020\n",
        "* Raifer, M., Troilo, R., Kowatsch, F. et al. OSHDB: a framework for spatio-temporal analysis of OpenStreetMap history data. Open geospatial data, softw. stand. 4, 3 (2019). https://doi.org/10.1186/s40965-019-0061-3"
      ]
    },
    {
      "cell_type": "markdown",
      "metadata": {
        "id": "Q-JuudaHbl8o"
      },
      "source": [
        "## Predefined queries for all time analysis"
      ]
    },
    {
      "cell_type": "markdown",
      "metadata": {
        "id": "Eg1SzAdfpVCW"
      },
      "source": [
        "Queries are now passed in [Overpass Turbo Wizard language](https://wiki.openstreetmap.org/wiki/Overpass_turbo/Wizard). Therefore new queries have to be initialised for each class. Everything is already defined, but you can again define and analyse your own query with certain OSM attributes if you want."
      ]
    },
    {
      "cell_type": "code",
      "execution_count": null,
      "metadata": {
        "id": "bv_dB0CILMMD"
      },
      "outputs": [],
      "source": [
        "#### OVERPASS TURBO WIZARD QUERIES ####\n",
        "# OSHOME needs explexitely Overpass Turbo wizard statements\n",
        "opwizquery_cycle_tracks = 'highway=cycleway or (highway=path or highway= footway) and (bicycle=designated or bicycle=yes or bicycle=permissive) or (cycleway=track or cycleway=opposite_track) or (cycleway:right=track or cycleway:right=opposite_track) or (cycleway:left=track or cycleway:left=opposite_track) or (cycleway:both=track or cycleway:both=opposite_track)'\n",
        "opwizquery_cycle_lanes = '(cycleway=lane or cycleway=opposite_lane) or (cycleway:right=lane or cycleway:right=opposite_lane) or (cycleway:left=lane or cycleway:left=opposite_lane) or (cycleway:both=lane or cycleway:both=opposite_lane)'\n",
        "opwizquery_calm_traffic_ways = '((highway=track or highway=service or highway=unclassified or highway=residential) and bicycle!=* and (motor_vehicle=private or motor_vehicle=no or motor_vehicle=customers or motor_vehicle=agricultural or motor_vehicle=forestry or motor_vehicle=destination or motor_vehicle=delivery)) or ((highway=track or highway=service or highway=unclassified or highway=residential) and ( (motor_vehicle=private or motor_vehicle=no or motor_vehicle=customers or motor_vehicle=agricultural or motor_vehicle=forestry or motor_vehicle=destination or motor_vehicle=delivery) or (access=private or access=no or access=customers or access=agricultural or access=forestry or access=destination or access=delivery) or (vehicle=private or vehicle=no or vehicle=customers or vehicle=agricultural or vehicle=forestry or vehicle=destination or vehicle=delivery) ) and (bicycle=designated or bicycle=yes or bicycle=permissive)) or (highway=track and (bicycle=designated or bicycle=yes or bicycle=permissive) and (motor_vehicle!=* and access!=* and vehicle!=*) ) or (highway=living_street) or (bicycle_road=yes) or (highway=pedestrian and (bicycle=designated or bicycle=yes or bicycle=permissive))'\n",
        "opwizquery_main_roads = 'highway=unclassified or highway=residential or highway=tertiary or highway=secondary'\n",
        "opwizquery_own = False\n",
        "\n",
        "dict_opwizqueries = {\n",
        "    \"cycle_tracks\": opwizquery_cycle_tracks,\n",
        "    \"cycle_lanes\": opwizquery_cycle_lanes,\n",
        "    \"calm_traffic_ways\": opwizquery_calm_traffic_ways,\n",
        "    \"main_roads\": opwizquery_main_roads,\n",
        "    \"own\": opwizquery_own,\n",
        "}"
      ]
    },
    {
      "cell_type": "markdown",
      "metadata": {
        "id": "WyKvrxZJbl8o"
      },
      "source": [
        "## Final Charts over Time"
      ]
    },
    {
      "cell_type": "markdown",
      "metadata": {
        "id": "vKxcc1rmbl8o"
      },
      "source": [
        "For each graph, the characteristics are classified by infrastructure class. The time series runs from 2008 to the present, with values for every 6th month. If you wish, you can also plot the main road characteristics as an additional infrastructure class to get a better comparison for the cycling infrastructure. This helps to assess the completeness of cycling infrastructure, as the main road network in OSM can be considered as complete in Europe.\n",
        "\n",
        "<big>⌛</big>Calling the OSHOME API can take 1-2  minutes for each plot at very large areas!<big>⌛</big>"
      ]
    },
    {
      "cell_type": "markdown",
      "metadata": {
        "id": "XUoMnjYwyM7L"
      },
      "source": [
        "⏩ Plot also main traffic road network?"
      ]
    },
    {
      "cell_type": "code",
      "execution_count": null,
      "metadata": {
        "colab": {
          "base_uri": "https://localhost:8080/",
          "height": 101,
          "referenced_widgets": [
            "fb4cde4b15ea4eb38f0e965e0fa112b3",
            "ee6c908e3d784de89ac7a7b3c39e22d0",
            "2883b77954044e059b23ca73f2efb1c1"
          ]
        },
        "id": "pAlzUXP3bl8o",
        "outputId": "916fec03-ff81-4bf5-c5ec-2950bad52e0a"
      },
      "outputs": [],
      "source": [
        "#### INCLUDE MAIN ROADS ? ####\n",
        "w = widgets.RadioButtons(\n",
        "    options=[False, True], description=\"Main roads:\", disabled=False\n",
        ")\n",
        "display(w)"
      ]
    },
    {
      "cell_type": "code",
      "execution_count": null,
      "metadata": {
        "colab": {
          "base_uri": "https://localhost:8080/"
        },
        "id": "b7I5FrmDbl8o",
        "outputId": "834976f9-9a7d-4f98-d3a3-8552fa03dcd9"
      },
      "outputs": [],
      "source": [
        "print(\"Include main roads: \", w.value)"
      ]
    },
    {
      "cell_type": "markdown",
      "metadata": {
        "id": "GlYfa1NtDW7Z"
      },
      "source": [
        "### Total Amount of Features\n",
        "Quarterly time series from every first day of every 3rd month to the present, for each class of infrastructure."
      ]
    },
    {
      "cell_type": "code",
      "execution_count": null,
      "metadata": {},
      "outputs": [],
      "source": [
        "import importlib\n",
        "import functions\n",
        "\n",
        "# Reload the entire module\n",
        "importlib.reload(functions)\n",
        "\n",
        "# Re-import the specific function\n",
        "from functions import load_plot"
      ]
    },
    {
      "cell_type": "code",
      "execution_count": null,
      "metadata": {
        "colab": {
          "base_uri": "https://localhost:8080/",
          "height": 562
        },
        "id": "j7RVuH1HDpQE",
        "outputId": "dc3be15c-8dab-451c-ee4e-134cf9ea4b32"
      },
      "outputs": [],
      "source": [
        "load_plot(\n",
        "    gjson_area,\n",
        "    \"https://api.ohsome.org/v1/elements/count\",\n",
        "    querydict=dict_opwizqueries,\n",
        "    ylabel=\"Amount of Features\",\n",
        "    roads=w.value,\n",
        ")"
      ]
    },
    {
      "cell_type": "markdown",
      "metadata": {
        "id": "0HcHZONGI_Qh"
      },
      "source": [
        "### Length of Features\n",
        "Quarterly time series from every first day of every 3rd month to the present, for each class of infrastructure."
      ]
    },
    {
      "cell_type": "code",
      "execution_count": null,
      "metadata": {
        "colab": {
          "base_uri": "https://localhost:8080/",
          "height": 161
        },
        "id": "R6Jo9G_iJeE9",
        "outputId": "d7486905-c985-4e4a-d513-685de5cb7133"
      },
      "outputs": [],
      "source": [
        "load_plot(\n",
        "    gjson_area,\n",
        "    \"https://api.ohsome.org/v1/elements/length\",\n",
        "    querydict=dict_opwizqueries,\n",
        "    ylabel=\"Length of Features (in m)\",\n",
        "    roads=w.value,\n",
        ")"
      ]
    },
    {
      "cell_type": "markdown",
      "metadata": {
        "id": "vwFXCkqdD5of"
      },
      "source": [
        "### Length of Feature Density\n",
        "Length of elements (in meter) divided by the total area (in square-kilometers), quarterly time series from every first day of every 3rd month to the present, for each class of infrastructure."
      ]
    },
    {
      "cell_type": "code",
      "execution_count": null,
      "metadata": {
        "colab": {
          "base_uri": "https://localhost:8080/",
          "height": 562
        },
        "id": "gKcfD5agJuSf",
        "outputId": "820b4805-dfe6-4a23-fe79-c094553557c5"
      },
      "outputs": [],
      "source": [
        "load_plot(\n",
        "    gjson_area,\n",
        "    \"https://api.ohsome.org/v1/elements/length/density\",\n",
        "    querydict=dict_opwizqueries,\n",
        "    ylabel=\"Length of Feature Density (in m/km²)\",\n",
        "    roads=w.value,\n",
        ")"
      ]
    },
    {
      "cell_type": "markdown",
      "metadata": {
        "id": "wxinM3AEJ2PW"
      },
      "source": [
        "### Contributions Count Density\n",
        "Number of contributions (by OSM users) divided by total area (in square kilometres), quarterly time series in 3-month intervals up to the present, for each class of infrastructure."
      ]
    },
    {
      "cell_type": "code",
      "execution_count": null,
      "metadata": {
        "colab": {
          "base_uri": "https://localhost:8080/",
          "height": 562
        },
        "id": "P9R2wQhkM-6k",
        "outputId": "89dbd056-8e5b-4626-9d11-929e60aaae92"
      },
      "outputs": [],
      "source": [
        "load_plot(\n",
        "    gjson_area,\n",
        "    \"https://api.ohsome.org/v1/contributions/count/density\",\n",
        "    querydict=dict_opwizqueries,\n",
        "    ylabel=\"Contribution Count Density (per km²) <br> in (3 month interval)\",\n",
        "    roads=w.value,\n",
        ")"
      ]
    },
    {
      "cell_type": "markdown",
      "metadata": {
        "id": "flblehgQB8lc"
      },
      "source": [
        "# E3: Linus Law: Version of OSM Features"
      ]
    },
    {
      "cell_type": "markdown",
      "metadata": {
        "id": "xhFZtW1QCEKW"
      },
      "source": [
        "Overpass can return the version of a feature. The version indicates **how many times a feature has been edited**. Features in OSM are marked as edited if the geometry or attributes have been edited. Linus Law points out that \"given enough eyeballs, all errors are shallow\". In this context, this means that if more people edit something, there is a **chance of higher correctness**.\n",
        "\n",
        "The **distribution shows how many features have been edited and how often**. The 10% quantile shows that 10% of the features have at least the given version and 90% have a higher version. The distribution is finally shown in a histogramm graphically.\n",
        "\n",
        "For more background information to the relation of OSM version and correctness see:\n",
        "* Keßler, C., de Groot, R.T.A. (2013). Trust as a Proxy Measure for the Quality\n",
        "of Volunteered Geographic Information in the Case of OpenStreetMap. In: Vandenbroucke, D., Bucher, B., Crompvoets, J. (eds) Geographic Information Science at the Heart of Europe. Lecture Notes in Geoinformation and Cartography. Springer, Cham. https://doi.org/10.1007/978-3-319-00615-4_2\n",
        "* Haklay, M. (2010). How Good is Volunteered Geographical Information? A Comparative Study of OpenStreetMap and Ordnance Survey Datasets. Environment and Planning B: Planning and Design 37 (4), 682–703. https://doi.org/10.1068/b35097."
      ]
    },
    {
      "cell_type": "code",
      "execution_count": null,
      "metadata": {
        "colab": {
          "base_uri": "https://localhost:8080/",
          "height": 226
        },
        "id": "WDl6U9T18NtE",
        "outputId": "2587f0ce-4e2a-472c-e5c0-7158e1fff6eb"
      },
      "outputs": [],
      "source": [
        "#### STATISTICS / LOCATION PARAMETERS ####\n",
        "\n",
        "# Combine all classes in one GDF\n",
        "gdf_total = dict_total[\"gdf_xml\"]\n",
        "\n",
        "# Set up DF with median, 25% and 10% quantile for version of cycle tracks, cycle lanes, calm traffic ways and total\n",
        "list_df = [\n",
        "    dict_cycle_tracks[\"gdf_xml\"],\n",
        "    dict_cycle_lanes[\"gdf_xml\"],\n",
        "    dict_calm_traffic_ways[\"gdf_xml\"],\n",
        "    dict_own[\"gdf_xml\"],\n",
        "    gdf_total,\n",
        "]  # list of all gdfs for function below\n",
        "\n",
        "\n",
        "statistics = [\n",
        "    calculate_dist_statistics(df, \"version\") for df in list_df\n",
        "]  # returns median, 0.25q, 0.1q and puts in list\n",
        "\n",
        "df_versions2 = pd.DataFrame(\n",
        "    statistics,\n",
        "    columns=[\"Median\", \"First Quartile (25%)\", \"10 % Quantile\"],\n",
        "    index=[\n",
        "        \"Cycle Tracks\",\n",
        "        \"Cycle Lanes\",\n",
        "        \"Calm Traffic Ways\",\n",
        "        \"Own Infrastructure\",\n",
        "        \"Total\",\n",
        "    ],\n",
        ")\n",
        "df_versions2"
      ]
    },
    {
      "cell_type": "code",
      "execution_count": null,
      "metadata": {
        "colab": {
          "base_uri": "https://localhost:8080/",
          "height": 562
        },
        "id": "orIEC00qjmj0",
        "outputId": "86b1cddf-1e36-4cde-9819-4548ed0eeba4"
      },
      "outputs": [],
      "source": [
        "#### HISTOGRAM ####\n",
        "colors = {\n",
        "    \"Cycle Tracks\": dict_cycle_tracks[\"color\"],\n",
        "    \"Cycle Lanes\": dict_cycle_lanes[\"color\"],\n",
        "    \"Calm Traffic Ways\": dict_calm_traffic_ways[\"color\"],\n",
        "    \"Own Infrastructure\": dict_own[\"color\"],\n",
        "}\n",
        "\n",
        "# Seaborn plot\n",
        "amount_bins = gdf_total.version.unique().max() - gdf_total.version.unique().min()\n",
        "plt.figure(figsize=(12, 6))\n",
        "plt.xlabel(\"Version of Features\")\n",
        "plt.ylabel(\"Count of Features\")\n",
        "sns.histplot(\n",
        "    gdf_total,\n",
        "    x=\"version\",\n",
        "    multiple=\"stack\",\n",
        "    hue=\"infr_class\",\n",
        "    bins=amount_bins,\n",
        "    palette=colors,\n",
        ")\n",
        "\n",
        "# Current axes /chart\n",
        "ax = plt.gca()\n",
        "# Get legend from the current axes and set own title\n",
        "legend = ax.legend_.set_title(\"Bicycle Infrastructure Classes\")"
      ]
    }
  ],
  "metadata": {
    "colab": {
      "provenance": [],
      "toc_visible": true
    },
    "kernelspec": {
      "display_name": "Python 3",
      "name": "python3"
    },
    "language_info": {
      "codemirror_mode": {
        "name": "ipython",
        "version": 3
      },
      "file_extension": ".py",
      "mimetype": "text/x-python",
      "name": "python",
      "nbconvert_exporter": "python",
      "pygments_lexer": "ipython3",
      "version": "3.10.14"
    },
    "widgets": {
      "application/vnd.jupyter.widget-state+json": {
        "2883b77954044e059b23ca73f2efb1c1": {
          "model_module": "@jupyter-widgets/controls",
          "model_module_version": "1.5.0",
          "model_name": "DescriptionStyleModel",
          "state": {
            "_model_module": "@jupyter-widgets/controls",
            "_model_module_version": "1.5.0",
            "_model_name": "DescriptionStyleModel",
            "_view_count": null,
            "_view_module": "@jupyter-widgets/base",
            "_view_module_version": "1.2.0",
            "_view_name": "StyleView",
            "description_width": ""
          }
        },
        "ee6c908e3d784de89ac7a7b3c39e22d0": {
          "model_module": "@jupyter-widgets/base",
          "model_module_version": "1.2.0",
          "model_name": "LayoutModel",
          "state": {
            "_model_module": "@jupyter-widgets/base",
            "_model_module_version": "1.2.0",
            "_model_name": "LayoutModel",
            "_view_count": null,
            "_view_module": "@jupyter-widgets/base",
            "_view_module_version": "1.2.0",
            "_view_name": "LayoutView",
            "align_content": null,
            "align_items": null,
            "align_self": null,
            "border": null,
            "bottom": null,
            "display": null,
            "flex": null,
            "flex_flow": null,
            "grid_area": null,
            "grid_auto_columns": null,
            "grid_auto_flow": null,
            "grid_auto_rows": null,
            "grid_column": null,
            "grid_gap": null,
            "grid_row": null,
            "grid_template_areas": null,
            "grid_template_columns": null,
            "grid_template_rows": null,
            "height": null,
            "justify_content": null,
            "justify_items": null,
            "left": null,
            "margin": null,
            "max_height": null,
            "max_width": null,
            "min_height": null,
            "min_width": null,
            "object_fit": null,
            "object_position": null,
            "order": null,
            "overflow": null,
            "overflow_x": null,
            "overflow_y": null,
            "padding": null,
            "right": null,
            "top": null,
            "visibility": null,
            "width": null
          }
        },
        "fb4cde4b15ea4eb38f0e965e0fa112b3": {
          "model_module": "@jupyter-widgets/controls",
          "model_module_version": "1.5.0",
          "model_name": "RadioButtonsModel",
          "state": {
            "_dom_classes": [],
            "_model_module": "@jupyter-widgets/controls",
            "_model_module_version": "1.5.0",
            "_model_name": "RadioButtonsModel",
            "_options_labels": [
              "False",
              "True"
            ],
            "_view_count": null,
            "_view_module": "@jupyter-widgets/controls",
            "_view_module_version": "1.5.0",
            "_view_name": "RadioButtonsView",
            "description": "Main roads:",
            "description_tooltip": null,
            "disabled": false,
            "index": 0,
            "layout": "IPY_MODEL_ee6c908e3d784de89ac7a7b3c39e22d0",
            "style": "IPY_MODEL_2883b77954044e059b23ca73f2efb1c1"
          }
        }
      }
    }
  },
  "nbformat": 4,
  "nbformat_minor": 0
}
